{
 "cells": [
  {
   "cell_type": "markdown",
   "id": "f0d2912c",
   "metadata": {},
   "source": [
    "### Name: Ahmed Elsayed Ahmed \n",
    "#### Group: ONL2_AIS2_S2 Microsoft Machine Learning Engineer"
   ]
  },
  {
   "cell_type": "markdown",
   "id": "56eacfa5",
   "metadata": {},
   "source": [
    "#### Task python 1\n",
    "\n",
    "______________________________"
   ]
  },
  {
   "cell_type": "markdown",
   "id": "b0781f47",
   "metadata": {},
   "source": [
    "An extra day is added to the calendar almost every four years as February 29, and the day is called a leap day. It corrects the calendar for\n",
    "the fact that our planet takes approximately 365.25 days to orbit the sun. A leap year contains a leap day.\n",
    "In the Gregorian calendar, three conditions are used to identify leap years:\n",
    "\n",
    "● The year can be evenly divided by 4, is a leap year, unless:\n",
    "\n",
    "○ The year can be evenly divided by 100, it is NOT a leap year, unless:\n",
    "\n",
    "○ The year is also evenly divisible by 400. Then it is a leap year.\n",
    "\n",
    "This means that in the Gregorian calendar, the years 2000 and 2400 are leap years, while 1800, 1900, 2100, 2200, 2300 and 2500 are NOT leap years. Source\n"
   ]
  },
  {
   "cell_type": "markdown",
   "id": "7fd9da42",
   "metadata": {},
   "source": [
    "Task\n",
    "\n",
    "Given a year, determine whether it is a leap year. If it is a leap year, return the Boolean True, otherwise return False.\n",
    "Note that the code stub provided reads from STDIN and passes arguments to the is_leap function. It is only necessary to complete the is_leap function.\n",
    "\n",
    "Input Format\n",
    "\n",
    "- Read “year” , the year to test.\n",
    "\n",
    "Output Format\n",
    "- The function must return a Boolean value (True/False). Output is handled by the provided code stub.\n",
    "\n",
    "Sample Input:\n",
    "- 1990\n",
    "\n",
    "Sample Output:\n",
    "- False\n",
    "\n",
    "Explanation:\n",
    "- 1990 is not a multiple of 4 hence it's not a leap year"
   ]
  },
  {
   "cell_type": "code",
   "execution_count": 12,
   "id": "d65eb2c6",
   "metadata": {},
   "outputs": [
    {
     "name": "stdout",
     "output_type": "stream",
     "text": [
      "Enter the year: 2003\n",
      "False\n"
     ]
    }
   ],
   "source": [
    "def is_leap(year):\n",
    "    if (year % 4 == 0):\n",
    "        if (year % 100 == 0):\n",
    "            if (year % 400 == 0):\n",
    "                return True\n",
    "            else:\n",
    "                return False\n",
    "        else:\n",
    "            return True\n",
    "    else:\n",
    "        return False\n",
    "\n",
    "year = int(input(\"Enter the year: \"))\n",
    "print(is_leap(year))\n"
   ]
  },
  {
   "cell_type": "code",
   "execution_count": null,
   "id": "47767a32",
   "metadata": {},
   "outputs": [],
   "source": []
  }
 ],
 "metadata": {
  "kernelspec": {
   "display_name": "Python 3 (ipykernel)",
   "language": "python",
   "name": "python3"
  },
  "language_info": {
   "codemirror_mode": {
    "name": "ipython",
    "version": 3
   },
   "file_extension": ".py",
   "mimetype": "text/x-python",
   "name": "python",
   "nbconvert_exporter": "python",
   "pygments_lexer": "ipython3",
   "version": "3.11.5"
  }
 },
 "nbformat": 4,
 "nbformat_minor": 5
}
